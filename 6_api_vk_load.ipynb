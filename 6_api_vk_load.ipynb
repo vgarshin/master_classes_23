{
 "cells": [
  {
   "cell_type": "markdown",
   "metadata": {},
   "source": [
    "# Mastering Applied Skills in Management, Analytics and Entrepreneurship I"
   ]
  },
  {
   "cell_type": "markdown",
   "metadata": {},
   "source": [
    "## DATA COLLECTION TECHNIQUES\n",
    "## Part VII. Get data from API"
   ]
  },
  {
   "cell_type": "markdown",
   "metadata": {},
   "source": [
    "### 1. Libraries and credentials"
   ]
  },
  {
   "cell_type": "code",
   "execution_count": null,
   "metadata": {},
   "outputs": [],
   "source": [
    "import os\n",
    "import json\n",
    "import requests"
   ]
  },
  {
   "cell_type": "code",
   "execution_count": null,
   "metadata": {},
   "outputs": [],
   "source": [
    "def access_data(file_path):\n",
    "    with open(file_path) as file:\n",
    "        access_data = json.load(file)\n",
    "    return access_data\n",
    "\n",
    "creds = access_data(file_path='access_vkapi.json')\n",
    "print(creds.keys())"
   ]
  },
  {
   "cell_type": "code",
   "execution_count": null,
   "metadata": {},
   "outputs": [],
   "source": [
    "VER = '5.126'\n",
    "TOKEN = creds['token']\n",
    "\n",
    "# Let's start from two GSOM groups in VK\n",
    "URL_SPBU = 'https://vk.com/gsom.spbu'\n",
    "URL_ABTR = 'https://vk.com/gsom_abiturient'\n",
    "GROUP_SPBU = 'gsom.spbu'\n",
    "GROUP_ABTR = 'gsom_abiturient'"
   ]
  },
  {
   "cell_type": "markdown",
   "metadata": {},
   "source": [
    "### 2. VK API first steps"
   ]
  },
  {
   "cell_type": "markdown",
   "metadata": {},
   "source": [
    "Complete manual for VK API is [here](https://dev.vk.com/api/getting-started)."
   ]
  },
  {
   "cell_type": "markdown",
   "metadata": {},
   "source": [
    "#### 2.1. Groups' descriptions"
   ]
  },
  {
   "cell_type": "code",
   "execution_count": null,
   "metadata": {},
   "outputs": [],
   "source": [
    "groups = GROUP_SPBU +',' + GROUP_ABTR\n",
    "method = 'groups.getById'\n",
    "fields = 'city,country,place,description,members_count'\n",
    "# all fields are here: https://vk.com/dev/objects/group"
   ]
  },
  {
   "cell_type": "code",
   "execution_count": null,
   "metadata": {},
   "outputs": [],
   "source": [
    "url = ''.join([\n",
    "    f'https://api.vk.com/method/{method}?',\n",
    "    f'group_ids={groups}',\n",
    "    f'&fields={fields}',\n",
    "    f'&access_token={TOKEN}',\n",
    "    f'&v={VER}'\n",
    "])\n",
    "print(url)"
   ]
  },
  {
   "cell_type": "code",
   "execution_count": null,
   "metadata": {},
   "outputs": [],
   "source": [
    "r = requests.get(url)"
   ]
  },
  {
   "cell_type": "code",
   "execution_count": null,
   "metadata": {},
   "outputs": [],
   "source": [
    "type(r)"
   ]
  },
  {
   "cell_type": "code",
   "execution_count": null,
   "metadata": {},
   "outputs": [],
   "source": [
    "r.text"
   ]
  },
  {
   "cell_type": "code",
   "execution_count": null,
   "metadata": {
    "tags": []
   },
   "outputs": [],
   "source": [
    "r.json()"
   ]
  },
  {
   "cell_type": "code",
   "execution_count": null,
   "metadata": {},
   "outputs": [],
   "source": [
    "data = r.json()\n",
    "type(data)"
   ]
  },
  {
   "cell_type": "code",
   "execution_count": null,
   "metadata": {},
   "outputs": [],
   "source": [
    "data.keys()"
   ]
  },
  {
   "cell_type": "code",
   "execution_count": null,
   "metadata": {},
   "outputs": [],
   "source": [
    "type(data['response'])"
   ]
  },
  {
   "cell_type": "code",
   "execution_count": null,
   "metadata": {},
   "outputs": [],
   "source": [
    "len(data['response'])"
   ]
  },
  {
   "cell_type": "code",
   "execution_count": null,
   "metadata": {},
   "outputs": [],
   "source": [
    "data['response'][0].keys()"
   ]
  },
  {
   "cell_type": "code",
   "execution_count": null,
   "metadata": {},
   "outputs": [],
   "source": [
    "data['response'][1].keys()"
   ]
  },
  {
   "cell_type": "code",
   "execution_count": null,
   "metadata": {
    "tags": []
   },
   "outputs": [],
   "source": [
    "for item in data['response']:\n",
    "    print('=' * 70)\n",
    "    for k, v in item.items():\n",
    "        print('-' * 70)\n",
    "        print('key:', k)\n",
    "        print('value:', v)"
   ]
  },
  {
   "cell_type": "markdown",
   "metadata": {},
   "source": [
    "## <font color='red'>INTERMEDIATE QUIZ</font>\n",
    "We are going to collect data from `gsom_ma` VK group and we will need to get `id` of that group for further data collection, so:\n",
    "1. Get the data for `gsom_ma` group\n",
    "2. Extract `id` for this group from the data"
   ]
  },
  {
   "cell_type": "code",
   "execution_count": null,
   "metadata": {},
   "outputs": [],
   "source": [
    "# YOUR CODE HERE"
   ]
  },
  {
   "cell_type": "code",
   "execution_count": null,
   "metadata": {},
   "outputs": [],
   "source": [
    "id_gsom_ma"
   ]
  },
  {
   "cell_type": "markdown",
   "metadata": {},
   "source": [
    "#### 2.2. Get data on walls"
   ]
  },
  {
   "cell_type": "markdown",
   "metadata": {},
   "source": [
    "Here we can get all records from the wall of the selected group. The method [wall.get](https://dev.vk.com/method/wall.get) is used for that purpose."
   ]
  },
  {
   "cell_type": "code",
   "execution_count": null,
   "metadata": {},
   "outputs": [],
   "source": [
    "owner_id = id_gsom_ma\n",
    "offset = 0 # to start with\n",
    "count = 5 # how many records to get\n",
    "method = 'wall.get'"
   ]
  },
  {
   "cell_type": "code",
   "execution_count": null,
   "metadata": {},
   "outputs": [],
   "source": [
    "url = ''.join([\n",
    "    f'https://api.vk.com/method/{method}?',\n",
    "    f'owner_id=-{owner_id}',\n",
    "    f'&offset={offset}',\n",
    "    f'&count={count}',\n",
    "    f'&access_token={TOKEN}',\n",
    "    f'&v={VER}'\n",
    "])\n",
    "r = requests.get(url)\n",
    "data = r.json()"
   ]
  },
  {
   "cell_type": "code",
   "execution_count": null,
   "metadata": {},
   "outputs": [],
   "source": [
    "data.keys()"
   ]
  },
  {
   "cell_type": "code",
   "execution_count": null,
   "metadata": {},
   "outputs": [],
   "source": [
    "len(data['response'])"
   ]
  },
  {
   "cell_type": "code",
   "execution_count": null,
   "metadata": {},
   "outputs": [],
   "source": [
    "data['response'].keys()"
   ]
  },
  {
   "cell_type": "code",
   "execution_count": null,
   "metadata": {},
   "outputs": [],
   "source": [
    "# how many records are on the wall\n",
    "data['response']['count']"
   ]
  },
  {
   "cell_type": "code",
   "execution_count": null,
   "metadata": {
    "tags": []
   },
   "outputs": [],
   "source": [
    "data"
   ]
  },
  {
   "cell_type": "code",
   "execution_count": null,
   "metadata": {
    "tags": []
   },
   "outputs": [],
   "source": [
    "data['response']['items'][-1]"
   ]
  },
  {
   "cell_type": "code",
   "execution_count": null,
   "metadata": {},
   "outputs": [],
   "source": [
    "# data on records itself\n",
    "len(data['response']['items'])"
   ]
  },
  {
   "cell_type": "code",
   "execution_count": null,
   "metadata": {
    "tags": []
   },
   "outputs": [],
   "source": [
    "data['response']['items'][0]"
   ]
  },
  {
   "cell_type": "code",
   "execution_count": null,
   "metadata": {},
   "outputs": [],
   "source": [
    "# attention - date as integer timestamp\n",
    "data['response']['items'][0]['date']"
   ]
  },
  {
   "cell_type": "code",
   "execution_count": null,
   "metadata": {},
   "outputs": [],
   "source": [
    "import datetime\n",
    "date = datetime.datetime.fromtimestamp(data['response']['items'][0]['date'])\n",
    "date"
   ]
  },
  {
   "cell_type": "code",
   "execution_count": null,
   "metadata": {
    "tags": []
   },
   "outputs": [],
   "source": [
    "for item in data['response']['items']:\n",
    "    print('=' * 70)\n",
    "    print('id:', item['id'], \n",
    "          '| date:', datetime.datetime.fromtimestamp(item['date']), \n",
    "          '\\n', item['text'], '\\n')"
   ]
  },
  {
   "cell_type": "markdown",
   "metadata": {},
   "source": [
    "## <font color='red'>INTERMEDIATE QUIZ</font>\n",
    "We already know how to get data on posts in the group. Now let's draw a barplot for posts' views that depend on time. So the task is:\n",
    "1. Load from 10 to 20 records (posts) from the group\n",
    "2. Extract data on posts' views (__HINT:__ find `views` and `count` keys), and the timestamps for the posts (HINT: find `date` key)\n",
    "3. Draw a barplot for `views` depending on time"
   ]
  },
  {
   "cell_type": "markdown",
   "metadata": {},
   "source": [
    "### <font color='green'>Solution</font>"
   ]
  },
  {
   "cell_type": "code",
   "execution_count": null,
   "metadata": {},
   "outputs": [],
   "source": [
    "# YOUR CODE HERE"
   ]
  },
  {
   "cell_type": "code",
   "execution_count": null,
   "metadata": {},
   "outputs": [],
   "source": [
    "# HINT to draw a barplot\n",
    "\n",
    "import matplotlib.pyplot as plt\n",
    "\n",
    "plt.figure(figsize=(16, 4))\n",
    "plt.bar(dates, views)\n",
    "plt.xticks(dates, rotation='vertical')\n",
    "plt.show()"
   ]
  },
  {
   "cell_type": "markdown",
   "metadata": {},
   "source": [
    "### 3. VK API headhunt"
   ]
  },
  {
   "cell_type": "markdown",
   "metadata": {},
   "source": [
    "We can get the data not only on the groups but also on the members of that groups:\n",
    "- method [`getMembers`](https://dev.vk.com/method/groups.getMembers) to get list of members\n",
    "- method [`users/get`](https://dev.vk.com/method/users.get) to get the data on specified users"
   ]
  },
  {
   "cell_type": "markdown",
   "metadata": {},
   "source": [
    "#### 3.1. Get all members of the group"
   ]
  },
  {
   "cell_type": "code",
   "execution_count": null,
   "metadata": {},
   "outputs": [],
   "source": [
    "group_name = 'gsom_ma'\n",
    "offset = 0 # to start from\n",
    "count = 100 # number of members to get their ids\n",
    "method = 'groups.getMembers'"
   ]
  },
  {
   "cell_type": "code",
   "execution_count": null,
   "metadata": {},
   "outputs": [],
   "source": [
    "url = ''.join([\n",
    "    f'https://api.vk.com/method/{method}?',\n",
    "    f'group_id={group_name}',\n",
    "    f'&offset={offset}',\n",
    "    f'&count={count}',\n",
    "    f'&access_token={TOKEN}',\n",
    "    f'&v={VER}'\n",
    "])\n",
    "print(url)"
   ]
  },
  {
   "cell_type": "code",
   "execution_count": null,
   "metadata": {},
   "outputs": [],
   "source": [
    "r = requests.get(url)\n",
    "data = r.json()\n",
    "print(\n",
    "    'group:', group_name,\n",
    "    '| total members:', data['response']['count'], \n",
    "    '| loaded:', len(data['response']['items'])\n",
    ")"
   ]
  },
  {
   "cell_type": "code",
   "execution_count": null,
   "metadata": {
    "tags": []
   },
   "outputs": [],
   "source": [
    "data['response']"
   ]
  },
  {
   "cell_type": "code",
   "execution_count": null,
   "metadata": {},
   "outputs": [],
   "source": [
    "list_of_members = data['response']['items']\n",
    "print(len(list_of_members))"
   ]
  },
  {
   "cell_type": "code",
   "execution_count": null,
   "metadata": {},
   "outputs": [],
   "source": [
    "list_of_members[:10]"
   ]
  },
  {
   "cell_type": "markdown",
   "metadata": {},
   "source": [
    "#### 3.2. Get data on the one member"
   ]
  },
  {
   "cell_type": "code",
   "execution_count": null,
   "metadata": {},
   "outputs": [],
   "source": [
    "method = 'users.get'\n",
    "user = '9379'"
   ]
  },
  {
   "cell_type": "code",
   "execution_count": null,
   "metadata": {},
   "outputs": [],
   "source": [
    "# all fields https://vk.com/dev/objects/user\n",
    "fields = 'sex,bdate,city,country,home_town,education,universities,schools,status,last_seen,occupation'"
   ]
  },
  {
   "cell_type": "code",
   "execution_count": null,
   "metadata": {},
   "outputs": [],
   "source": [
    "url = ''.join([\n",
    "    f'https://api.vk.com/method/{method}?',\n",
    "    f'user_ids={user}',\n",
    "    f'&fields={fields}',\n",
    "    f'&access_token={TOKEN}',\n",
    "    f'&v={VER}'\n",
    "])\n",
    "print(url)"
   ]
  },
  {
   "cell_type": "code",
   "execution_count": null,
   "metadata": {},
   "outputs": [],
   "source": [
    "r = requests.get(url)\n",
    "data = r.json()"
   ]
  },
  {
   "cell_type": "code",
   "execution_count": null,
   "metadata": {},
   "outputs": [],
   "source": [
    "data"
   ]
  },
  {
   "cell_type": "markdown",
   "metadata": {},
   "source": [
    "#### 3.3. Get data on the wall"
   ]
  },
  {
   "cell_type": "markdown",
   "metadata": {},
   "source": [
    "The same method as for the groups!"
   ]
  },
  {
   "cell_type": "code",
   "execution_count": null,
   "metadata": {},
   "outputs": [],
   "source": [
    "owner_id = '9379'\n",
    "offset = 0\n",
    "count = 20\n",
    "method = 'wall.get'"
   ]
  },
  {
   "cell_type": "code",
   "execution_count": null,
   "metadata": {},
   "outputs": [],
   "source": [
    "url = ''.join([\n",
    "    f'https://api.vk.com/method/{method}?',\n",
    "    f'owner_id=-{owner_id}',\n",
    "    f'&offset={offset}',\n",
    "    f'&count={count}',\n",
    "    f'&access_token={TOKEN}',\n",
    "    f'&v={VER}'\n",
    "])\n",
    "r = requests.get(url)\n",
    "data = r.json()"
   ]
  },
  {
   "cell_type": "code",
   "execution_count": null,
   "metadata": {
    "tags": []
   },
   "outputs": [],
   "source": [
    "data"
   ]
  },
  {
   "cell_type": "code",
   "execution_count": null,
   "metadata": {},
   "outputs": [],
   "source": [
    "folder = 'walls_data'\n",
    "os.makedirs(folder, exist_ok=True)"
   ]
  },
  {
   "cell_type": "code",
   "execution_count": null,
   "metadata": {
    "tags": []
   },
   "outputs": [],
   "source": [
    "import time\n",
    "from tqdm.auto import tqdm\n",
    "\n",
    "offset = 0\n",
    "count = 20\n",
    "method = 'wall.get'\n",
    "\n",
    "for user_id in tqdm(list_of_members):\n",
    "    url = ''.join([\n",
    "        f'https://api.vk.com/method/{method}?',\n",
    "        f'owner_id=-{user_id}',\n",
    "        f'&offset={offset}',\n",
    "        f'&count={count}',\n",
    "        f'&access_token={TOKEN}',\n",
    "        f'&v={VER}'\n",
    "    ])\n",
    "    r = requests.get(url)\n",
    "    data = r.json()\n",
    "    if 'response' in data.keys():\n",
    "        file_path = f'{folder}/{user_id}.json'\n",
    "        with open(file_path, 'w') as file:\n",
    "            json.dump(data, file)\n",
    "    else:\n",
    "        print(data.keys(), data['error']['error_msg'])\n",
    "    time.sleep(1)"
   ]
  },
  {
   "cell_type": "markdown",
   "metadata": {},
   "source": [
    "#### 3.3. Process data on the wall"
   ]
  },
  {
   "cell_type": "code",
   "execution_count": null,
   "metadata": {},
   "outputs": [],
   "source": [
    "file_list = os.listdir(folder)"
   ]
  },
  {
   "cell_type": "code",
   "execution_count": null,
   "metadata": {},
   "outputs": [],
   "source": [
    "import pandas as pd\n",
    "\n",
    "dfs = [] # an empty list to store the data frames\n",
    "for file_name in file_list:\n",
    "    if 'json' in file_name:\n",
    "        data = pd.read_json(\n",
    "            f'{folder}/{file_name}', \n",
    "            lines=True\n",
    "        ) # read data frame from json file\n",
    "        dfs.append(data) # append the data frame to the list\n",
    "df = pd.concat(dfs, ignore_index=True) # concatenate all the data frames in the list.\n",
    "df.head()"
   ]
  },
  {
   "cell_type": "code",
   "execution_count": null,
   "metadata": {
    "scrolled": true
   },
   "outputs": [],
   "source": [
    "all_data = []\n",
    "for file_name in file_list:\n",
    "    if 'json' in file_name:\n",
    "        with open(f'{folder}/{file_name}') as file:\n",
    "            data = json.load(file)\n",
    "        all_data.extend(data['response']['items'])\n",
    "df = pd.DataFrame(all_data)\n",
    "df.head()"
   ]
  },
  {
   "cell_type": "code",
   "execution_count": null,
   "metadata": {},
   "outputs": [],
   "source": [
    "pd.set_option('display.max_columns', None)\n",
    "\n",
    "all_data = []\n",
    "for file_name in file_list:\n",
    "    if 'json' in file_name:\n",
    "        with open(f'{folder}/{file_name}') as file:\n",
    "            data = json.load(file)\n",
    "        all_data.append(pd.json_normalize(data['response']['items']))\n",
    "df = pd.concat(all_data, ignore_index=True) # concatenate all the data frames in the list.\n",
    "df.head()"
   ]
  },
  {
   "cell_type": "code",
   "execution_count": null,
   "metadata": {},
   "outputs": [],
   "source": [
    "df['owner_id'] = df['owner_id'].astype(str)"
   ]
  },
  {
   "cell_type": "code",
   "execution_count": null,
   "metadata": {},
   "outputs": [],
   "source": [
    "sdf = df.groupby(by='owner_id')['likes.count'].sum()\n",
    "sdf.head()"
   ]
  },
  {
   "cell_type": "code",
   "execution_count": null,
   "metadata": {},
   "outputs": [],
   "source": [
    "sdf.sort_values(ascending=False, inplace=True)"
   ]
  },
  {
   "cell_type": "code",
   "execution_count": null,
   "metadata": {},
   "outputs": [],
   "source": [
    "import matplotlib.pyplot as plt\n",
    "\n",
    "plt.figure(figsize=(16, 4))\n",
    "sdf.plot(kind='bar')\n",
    "plt.xticks(rotation='vertical')\n",
    "plt.show()"
   ]
  },
  {
   "cell_type": "markdown",
   "metadata": {},
   "source": [
    "## LAB WORK #5"
   ]
  },
  {
   "cell_type": "markdown",
   "metadata": {},
   "source": [
    "We have already seen how to get data jn one member of the group with metod `users.get`, but this method can take many members' ids at once. For the home assignmebt you have to:\n",
    "1. Use `users.get` method for several members' ids \n",
    "2. Collect data on many users (at least 100 members)\n",
    "3. Find the data about university(ies) for the each member\n",
    "4. Draw a stat in a form of histogram to find frequency of universities in the collected dataset"
   ]
  },
  {
   "cell_type": "markdown",
   "metadata": {},
   "source": [
    "### Hints for lab work"
   ]
  },
  {
   "cell_type": "code",
   "execution_count": null,
   "metadata": {},
   "outputs": [],
   "source": [
    "# you may pass members' ids to `users` parameter of the query like a string with comma separated\n",
    "users = '11738,1212' \n",
    "url = ''.join([\n",
    "    f'https://api.vk.com/method/{method}?',\n",
    "    f'user_ids={users}',\n",
    "    f'&fields={fields}',\n",
    "    f'&access_token={TOKEN}',\n",
    "    f'&v={VER}'\n",
    "])\n",
    "print(url)"
   ]
  },
  {
   "cell_type": "markdown",
   "metadata": {},
   "source": [
    "### <font color='green'>Solution</font>"
   ]
  },
  {
   "cell_type": "code",
   "execution_count": null,
   "metadata": {},
   "outputs": [],
   "source": [
    "# YOUR CODE HERE"
   ]
  }
 ],
 "metadata": {
  "kernelspec": {
   "display_name": "Python 3 (ipykernel)",
   "language": "python",
   "name": "python3"
  },
  "language_info": {
   "codemirror_mode": {
    "name": "ipython",
    "version": 3
   },
   "file_extension": ".py",
   "mimetype": "text/x-python",
   "name": "python",
   "nbconvert_exporter": "python",
   "pygments_lexer": "ipython3",
   "version": "3.10.8"
  },
  "widgets": {
   "application/vnd.jupyter.widget-state+json": {
    "state": {
     "0250fdbec7e64e9db590aa2d99f3eb9d": {
      "model_module": "@jupyter-widgets/controls",
      "model_module_version": "2.0.0",
      "model_name": "HTMLModel",
      "state": {
       "layout": "IPY_MODEL_ae89f977e4104aefa6fe55d7176d8452",
       "style": "IPY_MODEL_9cf944b90ebd4e13aa945f840cc7635e",
       "value": " 44/100 [00:51&lt;01:02,  1.12s/it]"
      }
     },
     "167416d7128b446e8d4a1b6c96d4fd3c": {
      "model_module": "@jupyter-widgets/controls",
      "model_module_version": "2.0.0",
      "model_name": "FloatProgressModel",
      "state": {
       "bar_style": "danger",
       "layout": "IPY_MODEL_1eaaa3bed6664368a098893085a3ae65",
       "style": "IPY_MODEL_d70f6919bb6f4585bd9453dbdec957c0",
       "value": 44
      }
     },
     "1eaaa3bed6664368a098893085a3ae65": {
      "model_module": "@jupyter-widgets/base",
      "model_module_version": "2.0.0",
      "model_name": "LayoutModel",
      "state": {}
     },
     "535beb443526479a83f2b6159458bc67": {
      "model_module": "@jupyter-widgets/base",
      "model_module_version": "2.0.0",
      "model_name": "LayoutModel",
      "state": {}
     },
     "54e35b87b7844bbbadca00977ca699c2": {
      "model_module": "@jupyter-widgets/controls",
      "model_module_version": "2.0.0",
      "model_name": "HTMLStyleModel",
      "state": {
       "description_width": "",
       "font_size": null,
       "text_color": null
      }
     },
     "7f59612ea27b467e9cd441430e8b0188": {
      "model_module": "@jupyter-widgets/base",
      "model_module_version": "2.0.0",
      "model_name": "LayoutModel",
      "state": {}
     },
     "9cf944b90ebd4e13aa945f840cc7635e": {
      "model_module": "@jupyter-widgets/controls",
      "model_module_version": "2.0.0",
      "model_name": "HTMLStyleModel",
      "state": {
       "description_width": "",
       "font_size": null,
       "text_color": null
      }
     },
     "ae89f977e4104aefa6fe55d7176d8452": {
      "model_module": "@jupyter-widgets/base",
      "model_module_version": "2.0.0",
      "model_name": "LayoutModel",
      "state": {}
     },
     "c75d2e0bdd4e42c384e521bd1f4e5ae3": {
      "model_module": "@jupyter-widgets/controls",
      "model_module_version": "2.0.0",
      "model_name": "HTMLModel",
      "state": {
       "layout": "IPY_MODEL_535beb443526479a83f2b6159458bc67",
       "style": "IPY_MODEL_54e35b87b7844bbbadca00977ca699c2",
       "value": " 44%"
      }
     },
     "d0ea23f870b742c28ed48359dc514f31": {
      "model_module": "@jupyter-widgets/controls",
      "model_module_version": "2.0.0",
      "model_name": "HBoxModel",
      "state": {
       "children": [
        "IPY_MODEL_c75d2e0bdd4e42c384e521bd1f4e5ae3",
        "IPY_MODEL_167416d7128b446e8d4a1b6c96d4fd3c",
        "IPY_MODEL_0250fdbec7e64e9db590aa2d99f3eb9d"
       ],
       "layout": "IPY_MODEL_7f59612ea27b467e9cd441430e8b0188"
      }
     },
     "d70f6919bb6f4585bd9453dbdec957c0": {
      "model_module": "@jupyter-widgets/controls",
      "model_module_version": "2.0.0",
      "model_name": "ProgressStyleModel",
      "state": {
       "description_width": ""
      }
     }
    },
    "version_major": 2,
    "version_minor": 0
   }
  }
 },
 "nbformat": 4,
 "nbformat_minor": 4
}
